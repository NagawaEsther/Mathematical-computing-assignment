{
 "cells": [
  {
   "cell_type": "markdown",
   "metadata": {},
   "source": [
    "                                                 GROUP 3\n",
    "                                    NAGAWA ESTHER.REG NO:2023/DCSE/0049/SS\n",
    "                                    NANSALIRE ANITAH.REG NO:2023/DCSE/0079/SS\n",
    "                                    AKAPO REGINAH EBAJU. REG NO:2023/DCSE/006/SS\n",
    "                                    AMUTUHAIRE FAITH AHABWE. REG NO:2023/DCSE/0011/SS\n",
    "                                    LWAMULUNGI SHEILAH. REG NO:2023/DCSE/0037/SS\n",
    "                                    NAMUDDU MARIAM. REG NO:2023/DCSE/00105/SS"
   ]
  },
  {
   "cell_type": "markdown",
   "metadata": {},
   "source": [
    "# 1) LINEAR ALGEBRA"
   ]
  },
  {
   "cell_type": "markdown",
   "metadata": {},
   "source": [
    "What is linear algebra in simple words?\n",
    "Linear algebra is the study of linear combinations. It is the study of vector spaces, lines and planes, and some mappings that are required to perform the linear transformations. It includes vectors, matrices and linear functions. It is the study of linear sets of equations and its transformation properties."
   ]
  },
  {
   "cell_type": "code",
   "execution_count": 49,
   "metadata": {},
   "outputs": [],
   "source": [
    "\n",
    "#Solving linear equations (Ab=c)\n",
    "import numpy as np\n"
   ]
  },
  {
   "cell_type": "code",
   "execution_count": 50,
   "metadata": {},
   "outputs": [
    {
     "name": "stdout",
     "output_type": "stream",
     "text": [
      "Solution b:\n",
      "[ 1. -1.]\n"
     ]
    }
   ],
   "source": [
    "# Define matrix A and vector c\n",
    "A = np.array([[2, 1], [5, 3]])\n",
    "c = np.array([1, 2])\n",
    "\n",
    "# Solve for x\n",
    "b= np.linalg.solve(A, c)\n",
    "\n",
    "print(\"Solution b:\")\n",
    "print(b)"
   ]
  },
  {
   "cell_type": "markdown",
   "metadata": {},
   "source": [
    "# 2) VECTORS,COMBINING AND SCALING"
   ]
  },
  {
   "cell_type": "markdown",
   "metadata": {},
   "source": [
    "# VECTORS"
   ]
  },
  {
   "cell_type": "code",
   "execution_count": null,
   "metadata": {},
   "outputs": [],
   "source": [
    "\n",
    "A vector is an object that has both magnitude and direction but not position e.g) (a,-b)=a+b\n",
    "\n",
    "Combining is the number of ways that a certain number of objects can be taken from a lager number of objects;if the order does not matter.\n",
    "\n",
    "Scaling is a procedure through which we draw an object that is proportional to actual size of the object.\n"
   ]
  },
  {
   "cell_type": "code",
   "execution_count": 2,
   "metadata": {},
   "outputs": [],
   "source": [
    "# VECTORS\n",
    "import numpy as np"
   ]
  },
  {
   "cell_type": "code",
   "execution_count": 5,
   "metadata": {},
   "outputs": [
    {
     "name": "stdout",
     "output_type": "stream",
     "text": [
      "vector addition: [15  9 11]\n"
     ]
    }
   ],
   "source": [
    "# Define two vectors\n",
    "vectora=np.array([6,7,8])\n",
    "vectorb=np.array([9,2,3])\n",
    "\n",
    "#Vector addition\n",
    "result_add=vectora + vectorb\n",
    "print(\"vector addition:\" ,result_add)"
   ]
  },
  {
   "cell_type": "code",
   "execution_count": 6,
   "metadata": {},
   "outputs": [
    {
     "name": "stdout",
     "output_type": "stream",
     "text": [
      "vector subtraction: [-3  5  5]\n"
     ]
    }
   ],
   "source": [
    "# vector subtraction\n",
    "result_sub=vectora -vectorb\n",
    "print(\"vector subtraction:\",result_sub)"
   ]
  },
  {
   "cell_type": "markdown",
   "metadata": {},
   "source": [
    "# COMBINING"
   ]
  },
  {
   "cell_type": "code",
   "execution_count": null,
   "metadata": {},
   "outputs": [],
   "source": [
    "# Combining a vector\n",
    "combined_vector=np.concatenate(vectora,vectorb)\n",
    "print(\"combined_vector\")"
   ]
  },
  {
   "cell_type": "code",
   "execution_count": 11,
   "metadata": {},
   "outputs": [
    {
     "name": "stdout",
     "output_type": "stream",
     "text": [
      "stacked vector (horizontal): [6 7 8 9 2 3]\n"
     ]
    }
   ],
   "source": [
    "# stack vectors horizontally\n",
    "stacked_vector=np.hstack((vectora,vectorb))\n",
    "print(\"stacked vector (horizontal):\",stacked_vector)"
   ]
  },
  {
   "cell_type": "code",
   "execution_count": 10,
   "metadata": {},
   "outputs": [
    {
     "name": "stdout",
     "output_type": "stream",
     "text": [
      "stacked vector(horizontal): [[6 7 8]\n",
      " [9 2 3]]\n"
     ]
    }
   ],
   "source": [
    "# stack vectors vertically\n",
    "stacked_vector=np.vstack((vectora,vectorb))\n",
    "print(\"stacked vector(horizontal):\",stacked_vector)"
   ]
  },
  {
   "cell_type": "markdown",
   "metadata": {},
   "source": [
    "# SCALING"
   ]
  },
  {
   "cell_type": "code",
   "execution_count": 9,
   "metadata": {},
   "outputs": [
    {
     "name": "stdout",
     "output_type": "stream",
     "text": [
      "scaled vector: [54 14 24]\n"
     ]
    }
   ],
   "source": [
    "# Scaling a vector\n",
    "scaling_factor=4\n",
    "scaled_vector=vectora*vectorb\n",
    "print(\"scaled vector:\",scaled_vector)"
   ]
  },
  {
   "cell_type": "markdown",
   "metadata": {},
   "source": [
    "# 3) TRANSFORMING VECTORS AND MATRICES"
   ]
  },
  {
   "cell_type": "markdown",
   "metadata": {},
   "source": [
    "To transform a vector, we need to multiply the transformation matrix with that vector. This would result in a transformed vector, where the length or direction of the vector may be changed."
   ]
  },
  {
   "cell_type": "code",
   "execution_count": 4,
   "metadata": {},
   "outputs": [
    {
     "name": "stdout",
     "output_type": "stream",
     "text": [
      "Original Vector: [6 7]\n",
      "Translated Vector: [27 33]\n"
     ]
    }
   ],
   "source": [
    "import numpy as np\n",
    "\n",
    "# Define a 2D vector\n",
    "vector = np.array([6,7])\n",
    "\n",
    "# Translation by (dx, dy)\n",
    "dx, dy = 3,4\n",
    "translation_matrix = np.array([[3, 0, dx],\n",
    "                               [0, 3, dy]])\n",
    "\n",
    "# Apply translation\n",
    "translated_vector = np.dot(translation_matrix, np.append(vector, 3))[:4]\n",
    "\n",
    "print(\"Original Vector:\", vector)\n",
    "print(\"Translated Vector:\", translated_vector)"
   ]
  },
  {
   "cell_type": "code",
   "execution_count": 5,
   "metadata": {},
   "outputs": [
    {
     "name": "stdout",
     "output_type": "stream",
     "text": [
      "Original Vector: [7 8]\n",
      "Rotated Vector: [-0.70710678 10.60660172]\n"
     ]
    }
   ],
   "source": [
    "import numpy as np\n",
    "import math\n",
    "\n",
    "# Define a 2D vector\n",
    "vector = np.array([7,8])\n",
    "\n",
    "# Rotation angle in radians\n",
    "theta = math.pi / 4  # 45 degrees\n",
    "\n",
    "# Rotation matrix\n",
    "rotation_matrix = np.array([[math.cos(theta), -math.sin(theta)],\n",
    "                             [math.sin(theta), math.cos(theta)]])\n",
    "\n",
    "# Apply rotation\n",
    "rotated_vector = np.dot(rotation_matrix, vector)\n",
    "\n",
    "print(\"Original Vector:\", vector)\n",
    "print(\"Rotated Vector:\", rotated_vector)"
   ]
  },
  {
   "cell_type": "code",
   "execution_count": 6,
   "metadata": {},
   "outputs": [
    {
     "name": "stdout",
     "output_type": "stream",
     "text": [
      "Original Matrix:\n",
      " [[4 0]\n",
      " [0 6]]\n",
      "Scaled Matrix:\n",
      " [[6. 0.]\n",
      " [0. 3.]]\n"
     ]
    }
   ],
   "source": [
    "import numpy as np\n",
    "\n",
    "# Define a 2x2 matrix\n",
    "matrix = np.array([[4, 0],\n",
    "                   [0, 6]])\n",
    "\n",
    "# Scaling factors\n",
    "sx, sy = 1.5, 0.5\n",
    "\n",
    "# Scaling matrix\n",
    "scaling_matrix = np.array([[sx, 0],\n",
    "                            [0, sy]])\n",
    "\n",
    "# Apply scaling\n",
    "scaled_matrix = np.dot(scaling_matrix, matrix)\n",
    "\n",
    "print(\"Original Matrix:\\n\", matrix)\n",
    "print(\"Scaled Matrix:\\n\", scaled_matrix)"
   ]
  },
  {
   "cell_type": "code",
   "execution_count": 10,
   "metadata": {},
   "outputs": [
    {
     "name": "stdout",
     "output_type": "stream",
     "text": [
      "Matrix A:\n",
      " [[7 8]\n",
      " [9 6]]\n",
      "Matrix B:\n",
      " [[5 4]\n",
      " [2 0]]\n",
      "Result Matrix:\n",
      " [[51 28]\n",
      " [57 36]]\n"
     ]
    }
   ],
   "source": [
    "import numpy as np\n",
    "\n",
    "# Define matrices\n",
    "matrix_A = np.array([[7, 8],\n",
    "                     [9, 6]])\n",
    "\n",
    "matrix_B = np.array([[5, 4],\n",
    "                     [2, 0]])\n",
    "\n",
    "# Matrix multiplication\n",
    "result_matrix = np.dot(matrix_A, matrix_B)\n",
    "\n",
    "print(\"Matrix A:\\n\", matrix_A)\n",
    "print(\"Matrix B:\\n\", matrix_B)\n",
    "print(\"Result Matrix:\\n\", result_matrix)"
   ]
  },
  {
   "cell_type": "markdown",
   "metadata": {},
   "source": [
    "# 4) SYSTEM OF LINEAR EQUATIONS AND INVERSE MATRICES"
   ]
  },
  {
   "cell_type": "markdown",
   "metadata": {},
   "source": [
    " Solving linear equations using inverse matrices\n",
    "\n",
    "Write the system as a matrix equation: [coefficient matrix] [variables] = [constants].\n",
    "Find the inverse of the coefficient matrix.\n",
    "Multiply both sides by the inverse. It cancels with the coefficient matrix.\n",
    "The result is [variables] = [inverse][constants]. Solving a system of linear equations using the inverse of a matrix requires the definition of two new matrices: \n",
    "X is the matrix representing the variables of the system, and B is the matrix representing the constants. Using matrix multiplication, we may define a system of equations with the same number of equations as variables as AX=B\n",
    "To solve a system of linear equations using an inverse matrix, let A be the coefficient matrix, let X be the variable matrix, and let B be the constant matrix. Thus, we want to solve a system AX=B.\n",
    "EXAMPLES\n",
    "Example 1: In this example, we will create a 3 by 3 NumPy array matrix and then convert it into an inverse matrix using the np.linalg.inv() function."
   ]
  },
  {
   "cell_type": "code",
   "execution_count": 3,
   "metadata": {},
   "outputs": [
    {
     "name": "stdout",
     "output_type": "stream",
     "text": [
      "[[ 0.17647059 -0.00326797 -0.02287582]\n",
      " [ 0.05882353 -0.13071895  0.08496732]\n",
      " [-0.11764706  0.1503268   0.05228758]]\n"
     ]
    }
   ],
   "source": [
    "# Import required package\n",
    "import numpy as np\n",
    " \n",
    "# Taking a 3 * 3 matrix\n",
    "A = np.array([[6, 1, 1],\n",
    "              [4, -2, 5],\n",
    "              [2, 8, 7]])\n",
    " \n",
    "# Calculating the inverse of the matrix\n",
    "print(np.linalg.inv(A))"
   ]
  },
  {
   "cell_type": "markdown",
   "metadata": {},
   "source": [
    "Example 2, Create a 4 by 4 NumPy array matrix and then convert it using np.linalg.inv() function into an inverse Matrix in Python."
   ]
  },
  {
   "cell_type": "code",
   "execution_count": null,
   "metadata": {},
   "outputs": [
    {
     "name": "stdout",
     "output_type": "stream",
     "text": [
      "[[ 0.13368984  0.10695187  0.02139037 -0.09090909]\n",
      " [-0.00229183  0.02673797  0.14820474 -0.12987013]\n",
      " [-0.12987013  0.18181818  0.06493506 -0.02597403]\n",
      " [ 0.11000764 -0.28342246 -0.11382735  0.23376623]]\n"
     ]
    }
   ],
   "source": [
    "# Import required package\n",
    "import numpy as np\n",
    " \n",
    "# Taking a 4 * 4 matrix\n",
    "A = np.array([[6, 1, 1, 3],\n",
    "              [4, -2, 5, 1],\n",
    "              [2, 8, 7, 6],\n",
    "              [3, 1, 9, 7]])\n",
    " \n",
    "# Calculating the inverse of the matrix\n",
    "print(np.linalg.inv(A))"
   ]
  },
  {
   "cell_type": "markdown",
   "metadata": {},
   "source": [
    "# 5) DOT PRODUCTS"
   ]
  },
  {
   "cell_type": "markdown",
   "metadata": {},
   "source": [
    "THE DOT PRODUCT\n",
    "      Dot Product refers to the mathematical operation that takes two equal-length sequences of numbers (usually vectors) and returns a single number.\n",
    "\n",
    "Its a fundamental operation in linear algebra and has operations in various fields such as engeneering and computer science as well.\n",
    "\n",
    "#Exaple\n",
    "    Given two vectors;\n",
    "A = [a,b,c]\n",
    "B = [1,2,3]\n",
    " the dot product A.B is calculated as follows;\n",
    "\n",
    " A.B = [a.1,b.2,c.3] in a mathematical notation.\n",
    "\n",
    "      In a Numpy library,the operation is fundamental in vector and matrix operations and plays a cruicial role in various mathematical and computational operations. \n",
    "\n",
    " \n",
    "       "
   ]
  },
  {
   "cell_type": "code",
   "execution_count": null,
   "metadata": {},
   "outputs": [],
   "source": [
    "import numpy as np"
   ]
  },
  {
   "cell_type": "code",
   "execution_count": null,
   "metadata": {},
   "outputs": [],
   "source": [
    "vector_A = (1,2,3)"
   ]
  },
  {
   "cell_type": "code",
   "execution_count": null,
   "metadata": {},
   "outputs": [],
   "source": [
    "vector_B = (4,5,6)"
   ]
  },
  {
   "cell_type": "code",
   "execution_count": null,
   "metadata": {},
   "outputs": [],
   "source": [
    "vector_A = np.array([1,2,3])"
   ]
  },
  {
   "cell_type": "code",
   "execution_count": null,
   "metadata": {},
   "outputs": [],
   "source": [
    "vector_B = np.array([4,5,6])"
   ]
  },
  {
   "cell_type": "code",
   "execution_count": null,
   "metadata": {},
   "outputs": [
    {
     "data": {
      "text/plain": [
       "32"
      ]
     },
     "metadata": {},
     "output_type": "display_data"
    }
   ],
   "source": [
    "np.dot(vector_A,vector_B)"
   ]
  },
  {
   "cell_type": "markdown",
   "metadata": {},
   "source": [
    "# 6) MATRIX DECOMPOSITION"
   ]
  },
  {
   "cell_type": "markdown",
   "metadata": {},
   "source": [
    "Matrix decomposition refers to the transformation of a given matrix into a given canonical form. [1],\n",
    "when the given matrix is transformed to a right-hand-side product of canonical matrices the process of\n",
    "producing this decomposition is also called “matrix factorization”. Matrix decomposition is a fundamental theme in linear algebra and applied statistics which has both scientific and engineering significance.\n",
    "The purposes of matrix decomposition typically involve two aspects: computational convenience and analytic simplicity. In the real world, it is not feasible for most of the matrix computations to be calculated\n",
    "in an optimal explicit way, such as matrix inversion, matrix determinant, solving linear system and least\n",
    "square fitting, thus to convert a difficult matrix computation problem into several easier tasks such as\n",
    "solving triangular or diagonal system will greatly facilitate the calculations. Data matrices representing\n",
    "some numerical observations such as proximity matrix or correlation matrix are often huge and hard to\n",
    "analyze, therefore to decompose the data matrices into some lower-order or lower-rank canonical forms\n",
    "will reveal the inherent characteristic and structure of the matrices and help to interpret their meaning readily.\n",
    "                            TYPES OF MATRIX DECOMPOSITION\n",
    "                         1 LU DECOMPOSITION\n",
    "                         2 QR DECOMPOSITION \n",
    "                         3 SINGULAR VALUE DECOMPOSTION\n",
    "                         4 EINGVALUE DECOMPOSITION\n"
   ]
  },
  {
   "cell_type": "markdown",
   "metadata": {},
   "source": [
    "# LU DECOMPOSITION"
   ]
  },
  {
   "cell_type": "markdown",
   "metadata": {},
   "source": [
    "Solution to the linear system equation Ax=b is the basic problem in linear algebra .Theoretically when A is a non-singular square matrix there exists a unique solution x=A^-b,however the inverse of a matrix is typically not easy to compute .So we hope to transform A to some triangular systems which are much easier to solve by forward or backward substitution ,this process is reffered to as Gaussian elimination [5].This process can be summarized in matrix form as LU DECOMPOSITION and a series of evolutions when Matrix A has extra properties."
   ]
  },
  {
   "cell_type": "code",
   "execution_count": 16,
   "metadata": {},
   "outputs": [],
   "source": [
    "import numpy as np"
   ]
  },
  {
   "cell_type": "code",
   "execution_count": 17,
   "metadata": {},
   "outputs": [],
   "source": [
    "import scipy.linalg as la"
   ]
  },
  {
   "cell_type": "code",
   "execution_count": 18,
   "metadata": {},
   "outputs": [
    {
     "name": "stdout",
     "output_type": "stream",
     "text": [
      "[[7 8]\n",
      " [6 5]]\n"
     ]
    }
   ],
   "source": [
    "# create a sample matrix A\n",
    "A=np.array([[7,8],[6,5]])\n",
    "print(A)"
   ]
  },
  {
   "cell_type": "code",
   "execution_count": 19,
   "metadata": {},
   "outputs": [],
   "source": [
    "import scipy.linalg as la"
   ]
  },
  {
   "cell_type": "code",
   "execution_count": 27,
   "metadata": {},
   "outputs": [],
   "source": [
    "# perfform LU decomposition\n",
    "P,L,U=la.lu(A)"
   ]
  },
  {
   "cell_type": "code",
   "execution_count": 28,
   "metadata": {},
   "outputs": [
    {
     "name": "stdout",
     "output_type": "stream",
     "text": [
      "Matrix A:\n",
      "[[7 8]\n",
      " [6 5]]\n"
     ]
    }
   ],
   "source": [
    "print(\"Matrix A:\")\n",
    "print(A)"
   ]
  },
  {
   "cell_type": "code",
   "execution_count": 33,
   "metadata": {},
   "outputs": [
    {
     "name": "stdout",
     "output_type": "stream",
     "text": [
      "\n",
      "Matrix L:\n",
      "[[1.         0.        ]\n",
      " [0.85714286 1.        ]]\n"
     ]
    }
   ],
   "source": [
    "print(\"\\nMatrix L:\")\n",
    "print(L)"
   ]
  },
  {
   "cell_type": "code",
   "execution_count": 34,
   "metadata": {},
   "outputs": [
    {
     "name": "stdout",
     "output_type": "stream",
     "text": [
      " \\Matrix U:\n",
      "[[ 7.          8.        ]\n",
      " [ 0.         -1.85714286]]\n"
     ]
    }
   ],
   "source": [
    "print(\" \\Matrix U:\")\n",
    "print(U)"
   ]
  },
  {
   "cell_type": "markdown",
   "metadata": {},
   "source": [
    "# QR DECOMPOSITION"
   ]
  },
  {
   "cell_type": "markdown",
   "metadata": {},
   "source": [
    "In linear algebra, a QR decomposition, also known as a QR factorization or QU factorization, is a decomposition of a matrix A into a product A = QR of an orthonormal matrix Q and an upper triangular matrix R. QR decomposition is often used to solve the linear least squares problem and is the basis for a particular matrix."
   ]
  },
  {
   "cell_type": "code",
   "execution_count": null,
   "metadata": {},
   "outputs": [],
   "source": [
    "import numpy as np"
   ]
  },
  {
   "cell_type": "code",
   "execution_count": null,
   "metadata": {},
   "outputs": [],
   "source": [
    "import scipy.linalg as la"
   ]
  },
  {
   "cell_type": "code",
   "execution_count": null,
   "metadata": {},
   "outputs": [
    {
     "name": "stdout",
     "output_type": "stream",
     "text": [
      "[[7 8]\n",
      " [6 5]]\n"
     ]
    }
   ],
   "source": [
    "# create a sample Matrix A\n",
    "A=np.array([[7,8] ,[6,5]])\n",
    "print(A)"
   ]
  },
  {
   "cell_type": "code",
   "execution_count": null,
   "metadata": {},
   "outputs": [],
   "source": [
    "# Perform QR decomposition\n",
    "Q,R=la.qr(A)"
   ]
  },
  {
   "cell_type": "code",
   "execution_count": null,
   "metadata": {},
   "outputs": [
    {
     "name": "stdout",
     "output_type": "stream",
     "text": [
      "Matrix A:\n",
      "[[7 8]\n",
      " [6 5]]\n"
     ]
    }
   ],
   "source": [
    "print (\"Matrix A:\")\n",
    "print(A)"
   ]
  },
  {
   "cell_type": "code",
   "execution_count": null,
   "metadata": {},
   "outputs": [
    {
     "name": "stdout",
     "output_type": "stream",
     "text": [
      "\n",
      "orthogonal Matrix Q:\n",
      "[[-0.7592566  -0.65079137]\n",
      " [-0.65079137  0.7592566 ]]\n"
     ]
    }
   ],
   "source": [
    "print(\"\\northogonal Matrix Q:\")\n",
    "print(Q)"
   ]
  },
  {
   "cell_type": "code",
   "execution_count": null,
   "metadata": {},
   "outputs": [
    {
     "name": "stdout",
     "output_type": "stream",
     "text": [
      "\n",
      "Upper Triangular Matrix R:\n",
      "[[-9.21954446 -9.32800969]\n",
      " [ 0.         -1.41004798]]\n"
     ]
    }
   ],
   "source": [
    "print(\"\\nUpper Triangular Matrix R:\")\n",
    "print(R)"
   ]
  },
  {
   "cell_type": "markdown",
   "metadata": {},
   "source": [
    "# SINGULAR VALUE DECOMPOSITION(SVD)"
   ]
  },
  {
   "cell_type": "markdown",
   "metadata": {},
   "source": [
    "The singular value decomposition of a matrix A is the factorization of A into the product of three matrices A = UDV T where the columns of U and V are orthonormal and the matrix D is diagonal with positive real entries. The SVD is useful in many tasks."
   ]
  },
  {
   "cell_type": "code",
   "execution_count": null,
   "metadata": {},
   "outputs": [],
   "source": [
    "import numpy as np"
   ]
  },
  {
   "cell_type": "code",
   "execution_count": null,
   "metadata": {},
   "outputs": [],
   "source": [
    "A=np.array([[7,8],[6,5]])\n",
    "U,S,VT=np.linalg.svd(A)"
   ]
  },
  {
   "cell_type": "code",
   "execution_count": null,
   "metadata": {},
   "outputs": [
    {
     "name": "stdout",
     "output_type": "stream",
     "text": [
      "Matrix A:\n",
      "[[7 8]\n",
      " [6 5]]\n"
     ]
    }
   ],
   "source": [
    "print(\"Matrix A:\")\n",
    "print(A)"
   ]
  },
  {
   "cell_type": "code",
   "execution_count": null,
   "metadata": {},
   "outputs": [
    {
     "name": "stdout",
     "output_type": "stream",
     "text": [
      "\n",
      "Matrix U:\n",
      "[[-0.80692127 -0.59065901]\n",
      " [-0.59065901  0.80692127]]\n"
     ]
    }
   ],
   "source": [
    "print(\"\\nMatrix U:\")\n",
    "print(U)"
   ]
  },
  {
   "cell_type": "code",
   "execution_count": null,
   "metadata": {},
   "outputs": [
    {
     "name": "stdout",
     "output_type": "stream",
     "text": [
      "[[13.15383034  0.        ]\n",
      " [ 0.          0.98830528]]\n",
      "\n",
      "Transpose of Mtrix V\n",
      "[[-0.69883849 -0.7152795 ]\n",
      " [ 0.7152795  -0.69883849]]\n"
     ]
    }
   ],
   "source": [
    "print(np.diag(S))\n",
    "print(\"\\nTranspose of Mtrix V\")\n",
    "print(VT)"
   ]
  },
  {
   "cell_type": "markdown",
   "metadata": {},
   "source": [
    "# EIGENVALUE DECOMPOSITION"
   ]
  },
  {
   "cell_type": "markdown",
   "metadata": {},
   "source": [
    "Eigendecomposition provides us with a tool to decompose a matrix by discovering the eigenvalues and the eigenvectors. This operation can prove useful since it allows certain matrix operations to be easier to perform and it also tells us important facts about the matrix itself."
   ]
  },
  {
   "cell_type": "code",
   "execution_count": null,
   "metadata": {},
   "outputs": [],
   "source": [
    "import numpy as np"
   ]
  },
  {
   "cell_type": "code",
   "execution_count": null,
   "metadata": {},
   "outputs": [],
   "source": [
    "A=np.array([[7,8],[6,5]])\n",
    "eigenvalues,eigenvectors=np.linalg.eig(A)"
   ]
  },
  {
   "cell_type": "code",
   "execution_count": null,
   "metadata": {},
   "outputs": [
    {
     "name": "stdout",
     "output_type": "stream",
     "text": [
      "Matrix A\n",
      "[[7 8]\n",
      " [6 5]]\n"
     ]
    }
   ],
   "source": [
    "print(\"Matrix A\")\n",
    "print(A)"
   ]
  },
  {
   "cell_type": "code",
   "execution_count": null,
   "metadata": {},
   "outputs": [
    {
     "name": "stdout",
     "output_type": "stream",
     "text": [
      "\n",
      "Eigenvaue:\n",
      "[13. -1.]\n"
     ]
    }
   ],
   "source": [
    "print(\"\\nEigenvaues:\")\n",
    "print(eigenvalues)"
   ]
  },
  {
   "cell_type": "code",
   "execution_count": null,
   "metadata": {},
   "outputs": [
    {
     "name": "stdout",
     "output_type": "stream",
     "text": [
      "eigenvectors\n",
      "[[ 0.8        -0.70710678]\n",
      " [ 0.6         0.70710678]]\n"
     ]
    }
   ],
   "source": [
    "print(\"eigenvectors\")\n",
    "print(eigenvectors)"
   ]
  }
 ],
 "metadata": {
  "kernelspec": {
   "display_name": "Python 3",
   "language": "python",
   "name": "python3"
  },
  "language_info": {
   "codemirror_mode": {
    "name": "ipython",
    "version": 3
   },
   "file_extension": ".py",
   "mimetype": "text/x-python",
   "name": "python",
   "nbconvert_exporter": "python",
   "pygments_lexer": "ipython3",
   "version": "3.11.4"
  },
  "orig_nbformat": 4
 },
 "nbformat": 4,
 "nbformat_minor": 2
}
